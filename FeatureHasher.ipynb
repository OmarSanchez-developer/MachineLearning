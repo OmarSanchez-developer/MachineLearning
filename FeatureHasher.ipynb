{
  "nbformat": 4,
  "nbformat_minor": 0,
  "metadata": {
    "colab": {
      "provenance": [],
      "authorship_tag": "ABX9TyOlOg63Tgk8gTHYBCBBJyFJ",
      "include_colab_link": true
    },
    "kernelspec": {
      "name": "python3",
      "display_name": "Python 3"
    },
    "language_info": {
      "name": "python"
    }
  },
  "cells": [
    {
      "cell_type": "markdown",
      "metadata": {
        "id": "view-in-github",
        "colab_type": "text"
      },
      "source": [
        "<a href=\"https://colab.research.google.com/github/OmarSanchez-developer/MachineLearning/blob/main/FeatureHasher.ipynb\" target=\"_parent\"><img src=\"https://colab.research.google.com/assets/colab-badge.svg\" alt=\"Open In Colab\"/></a>"
      ]
    },
    {
      "cell_type": "code",
      "execution_count": null,
      "metadata": {
        "colab": {
          "base_uri": "https://localhost:8080/"
        },
        "id": "dPHQRFpGY5Kn",
        "outputId": "575d2ac0-2d5f-4e2e-e01d-ca2934f153b3"
      },
      "outputs": [
        {
          "output_type": "execute_result",
          "data": {
            "text/plain": [
              "<3x10 sparse matrix of type '<class 'numpy.float64'>'\n",
              "\twith 4 stored elements in Compressed Sparse Row format>"
            ]
          },
          "metadata": {},
          "execution_count": 13
        }
      ],
      "source": [
        "data = [\n",
        "    {'apple': 2, 'banana':1, 'orange': 3},\n",
        "     {'banana': 4, 'orange':1},\n",
        "     {'kiwi': 3, 'pineapple': 5}]\n",
        "from sklearn.feature_extraction import FeatureHasher\n",
        "hasher = FeatureHasher(n_features=10)\n",
        "hashed_data = hasher.fit_transform(data)\n",
        "hashed_data\n"
      ]
    }
  ]
}