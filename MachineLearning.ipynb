{
  "nbformat": 4,
  "nbformat_minor": 0,
  "metadata": {
    "colab": {
      "provenance": [],
      "authorship_tag": "ABX9TyPLLFkAAUOZhSOeo3JPa3Q+",
      "include_colab_link": true
    },
    "kernelspec": {
      "name": "python3",
      "display_name": "Python 3"
    },
    "language_info": {
      "name": "python"
    }
  },
  "cells": [
    {
      "cell_type": "markdown",
      "metadata": {
        "id": "view-in-github",
        "colab_type": "text"
      },
      "source": [
        "<a href=\"https://colab.research.google.com/github/OmarSanchez-developer/MachineLearning/blob/main/MachineLearning.ipynb\" target=\"_parent\"><img src=\"https://colab.research.google.com/assets/colab-badge.svg\" alt=\"Open In Colab\"/></a>"
      ]
    },
    {
      "cell_type": "code",
      "execution_count": 42,
      "metadata": {
        "colab": {
          "base_uri": "https://localhost:8080/"
        },
        "id": "bfk3AfpeN8yi",
        "outputId": "94d4385c-9787-4330-8e4f-cd87ec3d44a9"
      },
      "outputs": [
        {
          "output_type": "stream",
          "name": "stdout",
          "text": [
            "['City=Bogota', 'City=Buenos Aires', 'City=Tlaxcala', 'age', 'name=Hugo', 'name=Luis', 'name=Paco', 'parent=Jose', 'parent=Miguel', 'parent=Ramon']\n",
            "{'City=Bogota': 0, 'City=Buenos Aires': 1, 'City=Tlaxcala': 2, 'age': 3, 'name=Hugo': 4, 'name=Luis': 5, 'name=Paco': 6, 'parent=Jose': 7, 'parent=Miguel': 8, 'parent=Ramon': 9}\n"
          ]
        },
        {
          "output_type": "execute_result",
          "data": {
            "text/plain": [
              "<3x10 sparse matrix of type '<class 'numpy.float64'>'\n",
              "\twith 12 stored elements in Compressed Sparse Row format>"
            ]
          },
          "metadata": {},
          "execution_count": 42
        }
      ],
      "source": [
        "data = [\n",
        "    {'name': 'Hugo', 'age':25, 'City':  'Bogota', 'parent': 'Jose'},\n",
        "    {'name': 'Paco', 'age':30, 'City':  'Tlaxcala', 'parent': 'Miguel'},\n",
        "    {'name': 'Luis', 'age':22, 'City':  'Buenos Aires', 'parent': 'Ramon'}\n",
        "]\n",
        "from sklearn.feature_extraction import DictVectorizer\n",
        "vectorizer = DictVectorizer(sparse=False)\n",
        "vectorizer.fit(data)\n",
        "\n",
        "vectorized_data = vectorizer.transform(data)\n",
        "type(vectorized_data)\n",
        "vectorized_data\n",
        "print(vectorizer.feature_names_)\n",
        "print(vectorizer.vocabulary_)\n",
        "vectorizer = DictVectorizer()\n",
        "\n",
        "vectorizer.fit(data)\n",
        "vectorizer.transform(data)\n",
        "\n",
        "\n",
        "\n",
        "\n",
        "\n",
        "\n",
        "\n",
        "\n"
      ]
    },
    {
      "cell_type": "markdown",
      "source": [],
      "metadata": {
        "id": "16-XiBF2OSmq"
      }
    }
  ]
}